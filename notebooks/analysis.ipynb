{
 "cells": [
  {
   "cell_type": "code",
   "execution_count": null,
   "id": "99ef6e17",
   "metadata": {},
   "outputs": [],
   "source": [
    "import pandas as pd\n",
    "import matplotlib.pyplot as plt\n",
    "import seaborn as sns\n",
    "\n",
    "#ask the user to select the dataset\n",
    "print(\"Select the dataset to load (ensure dataset exists):\")\n",
    "print(\"1: Retail Data\")\n",
    "print(\"2: Normalized Data\")\n",
    "print(\"3: Cleaned Data\")\n",
    "choice = input(\"Enter your choice (1/2/3): \")\n",
    "\n",
    "# load the selected dataset\n",
    "if choice == '1':\n",
    "    data = pd.read_csv('../data/retail_data.csv')\n",
    "elif choice == '2':\n",
    "    data = pd.read_csv('../data/normalized_data.csv')\n",
    "elif choice == '3':\n",
    "    data = pd.read_csv('../data/cleaned_data.csv')\n",
    "else:\n",
    "    print(\"Invalid selection. Loading default dataset (Retail Data).\")\n",
    "    data = pd.read_csv('../data/retail_data.csv')\n",
    "\n",
    "# overview stats\n",
    "print(data.describe())\n",
    "\n",
    "# print missing values\n",
    "print(data.isnull().sum())\n",
    "\n",
    "# histogram plot\n",
    "data.hist(bins=15, figsize=(15, 6), layout=(2, 4))\n",
    "plt.show()\n",
    "\n",
    "# boxplot \n",
    "numeric_cols = data.select_dtypes(include=['float64', 'int64']).columns\n",
    "data[numeric_cols].plot(kind='box', subplots=True, layout=(2, 4), figsize=(15, 6))\n",
    "plt.show()\n",
    "\n",
    "# matrix heatmap\n",
    "sns.heatmap(data.corr(), annot=True, fmt=\".2f\")\n",
    "plt.show()\n"
   ]
  }
 ],
 "metadata": {
  "kernelspec": {
   "display_name": "Python 3",
   "language": "python",
   "name": "python3"
  },
  "language_info": {
   "codemirror_mode": {
    "name": "ipython",
    "version": 3
   },
   "file_extension": ".py",
   "mimetype": "text/x-python",
   "name": "python",
   "nbconvert_exporter": "python",
   "pygments_lexer": "ipython3",
   "version": "3.8.8"
  }
 },
 "nbformat": 4,
 "nbformat_minor": 5
}
