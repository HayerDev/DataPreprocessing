{
 "cells": [
  {
   "cell_type": "code",
   "execution_count": 1,
   "id": "49fa5409",
   "metadata": {},
   "outputs": [],
   "source": [
    "import pandas as pd\n",
    "from sklearn.preprocessing import StandardScaler\n",
    "\n",
    "# load the data\n",
    "data = pd.read_csv('../data/cleaned_data.csv')\n",
    "\n",
    "# init StandardScaler\n",
    "scaler = StandardScaler()\n",
    "\n",
    "numerical_cols = data.select_dtypes(include=['float64', 'int64']).columns\n",
    "\n",
    "data[numerical_cols] = scaler.fit_transform(data[numerical_cols])\n",
    "\n",
    "# Save the normalized data\n",
    "data.to_csv('../data/normalized_data.csv', index=False)\n"
   ]
  }
 ],
 "metadata": {
  "kernelspec": {
   "display_name": "Python 3",
   "language": "python",
   "name": "python3"
  },
  "language_info": {
   "codemirror_mode": {
    "name": "ipython",
    "version": 3
   },
   "file_extension": ".py",
   "mimetype": "text/x-python",
   "name": "python",
   "nbconvert_exporter": "python",
   "pygments_lexer": "ipython3",
   "version": "3.8.8"
  }
 },
 "nbformat": 4,
 "nbformat_minor": 5
}
