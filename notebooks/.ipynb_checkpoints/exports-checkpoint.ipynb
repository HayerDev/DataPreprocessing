{
 "cells": [
  {
   "cell_type": "code",
   "execution_count": null,
   "id": "bd5d9bb2",
   "metadata": {},
   "outputs": [],
   "source": [
    "import requests\n",
    "import pandas as pd\n",
    "from io import StringIO\n",
    "\n",
    "#ask the user to select the dataset\n",
    "print(\"Select the dataset to load and upload (ensure dataset exists):\")\n",
    "print(\"1: Retail Data\")\n",
    "print(\"2: Cleaned Data\")\n",
    "print(\"3: Normalized Data\")\n",
    "choice = input(\"Enter your choice (1/2/3): \")\n",
    "\n",
    "# load dataset\n",
    "if choice == '1':\n",
    "    filename = 'retail_data.csv'\n",
    "elif choice == '2':\n",
    "    filename = 'cleaned_data.csv'\n",
    "elif choice == '3':\n",
    "    filename = 'normalized_data.csv'\n",
    "else:\n",
    "    print(\"Invalid selection. Loading default dataset (Retail Data).\")\n",
    "    filename = 'retail_data.csv'\n",
    "\n",
    "data_df = pd.read_csv(f'../data/{filename}')\n",
    "\n",
    "# convert to sendable CSV format\n",
    "csv_buffer = StringIO()\n",
    "data_df.to_csv(csv_buffer, index=False)\n",
    "csv_buffer.seek(0)  # Rewind the buffer\n",
    "\n",
    "upload_url = \"http://localhost:3000/upload\"\n",
    "\n",
    "# POST request with the CSV file\n",
    "files = {'file': (filename, csv_buffer, 'text/csv')}\n",
    "response = requests.post(upload_url, files=files)\n",
    "\n",
    "# check for response\n",
    "if response.status_code == 200:\n",
    "    print(\"Data uploaded successfully\")\n",
    "else:\n",
    "    print(\"Failed to upload data\")\n"
   ]
  }
 ],
 "metadata": {
  "kernelspec": {
   "display_name": "Python 3",
   "language": "python",
   "name": "python3"
  },
  "language_info": {
   "codemirror_mode": {
    "name": "ipython",
    "version": 3
   },
   "file_extension": ".py",
   "mimetype": "text/x-python",
   "name": "python",
   "nbconvert_exporter": "python",
   "pygments_lexer": "ipython3",
   "version": "3.8.8"
  }
 },
 "nbformat": 4,
 "nbformat_minor": 5
}
