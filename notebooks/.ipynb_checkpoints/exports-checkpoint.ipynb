{
 "cells": [
  {
   "cell_type": "code",
   "execution_count": null,
   "id": "bd5d9bb2",
   "metadata": {},
   "outputs": [],
   "source": [
    "import requests\n",
    "import pandas as pd\n",
    "\n",
    "#ask the user to select the dataset\n",
    "print(\"Select the dataset to load and upload (ensure dataset exists):\")\n",
    "print(\"1: Retail Data\")\n",
    "print(\"2: Cleaned Data\")\n",
    "print(\"3: Normalized Data\")\n",
    "choice = input(\"Enter your choice (1/2/3): \")\n",
    "\n",
    "# load dataset\n",
    "if choice == '1':\n",
    "    data_df = pd.read_csv('../data/retail_data.csv')\n",
    "elif choice == '2':\n",
    "    data_df = pd.read_csv('../data/cleaned_data.csv')\n",
    "elif choice == '3':\n",
    "    data_df = pd.read_csv('../data/normalized_data.csv')\n",
    "else:\n",
    "    print(\"Invalid selection. Loading default dataset (Retail Data).\")\n",
    "    data_df = pd.read_csv('../data/retail_data.csv')\n",
    "\n",
    "upload_url = \"\"\n",
    "\n",
    "# convert to JSOn\n",
    "data_json = data_df.to_json(orient='records')\n",
    "\n",
    "# POST request to the API\n",
    "response = requests.post(upload_url, json=data_json)\n",
    "\n",
    "# check for response\n",
    "if response.status_code == 200:\n",
    "    print(\"Data uploaded successfully\")\n",
    "else:\n",
    "    print(\"Failed to upload data\")\n"
   ]
  }
 ],
 "metadata": {
  "kernelspec": {
   "display_name": "Python 3",
   "language": "python",
   "name": "python3"
  },
  "language_info": {
   "codemirror_mode": {
    "name": "ipython",
    "version": 3
   },
   "file_extension": ".py",
   "mimetype": "text/x-python",
   "name": "python",
   "nbconvert_exporter": "python",
   "pygments_lexer": "ipython3",
   "version": "3.8.8"
  }
 },
 "nbformat": 4,
 "nbformat_minor": 5
}
