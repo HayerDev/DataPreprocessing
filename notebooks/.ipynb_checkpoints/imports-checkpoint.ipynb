{
 "cells": [
  {
   "cell_type": "code",
   "execution_count": null,
   "id": "5d9f4717",
   "metadata": {},
   "outputs": [],
   "source": [
    "import requests\n",
    "import pandas as pd\n",
    "from io import BytesIO\n",
    "\n",
    "#select the dataset to be retrieved\n",
    "print(\"Select the dataset to download:\")\n",
    "print(\"1: Retail Data\")\n",
    "print(\"2: Cleaned Data\")\n",
    "print(\"3: Normalized Data\")\n",
    "choice = input(\"Enter your choice (1/2/3): \")\n",
    "\n",
    "base_api_url = \"http://localhost:3000/download/\"\n",
    "\n",
    "# append the API URL based on users choice\n",
    "if choice == '1':\n",
    "    api_url = base_api_url + \"retail_data\"\n",
    "    save_filename = 'retail_data.csv'\n",
    "elif choice == '2':\n",
    "    api_url = base_api_url + \"cleaned_data\"\n",
    "    save_filename = 'cleaned_data.csv'\n",
    "elif choice == '3':\n",
    "    api_url = base_api_url + \"normalized_data\"\n",
    "    save_filename = 'normalized_data.csv'\n",
    "else:\n",
    "    print(\"Invalid selection. Defaulting to Retail Data.\")\n",
    "    api_url = base_api_url + \"retail_data\" #base case\n",
    "    save_filename = 'retail_data.csv' #default\n",
    "\n",
    "# GET request to the API\n",
    "response = requests.get(api_url)\n",
    "\n",
    "# check if the request was successful\n",
    "if response.status_code == 200:\n",
    "    # response is expected to be a CSV file\n",
    "    data_df = pd.read_csv(BytesIO(response.content))\n",
    "    print(\"Data loaded successfully.\")\n",
    "    \n",
    "    data_df.to_csv(f'../data/{save_filename}', index=False)\n",
    "    print(f\"Data saved to {save_filename}\")\n",
    "else:\n",
    "    print(\"Failed to download data. Status code:\", response.status_code)"
   ]
  }
 ],
 "metadata": {
  "kernelspec": {
   "display_name": "Python 3",
   "language": "python",
   "name": "python3"
  },
  "language_info": {
   "codemirror_mode": {
    "name": "ipython",
    "version": 3
   },
   "file_extension": ".py",
   "mimetype": "text/x-python",
   "name": "python",
   "nbconvert_exporter": "python",
   "pygments_lexer": "ipython3",
   "version": "3.8.8"
  }
 },
 "nbformat": 4,
 "nbformat_minor": 5
}
