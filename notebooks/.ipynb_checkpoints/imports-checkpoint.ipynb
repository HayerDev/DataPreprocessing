{
 "cells": [
  {
   "cell_type": "code",
   "execution_count": null,
   "id": "5d9f4717",
   "metadata": {},
   "outputs": [],
   "source": [
    "import requests\n",
    "import pandas as pd\n",
    "\n",
    "#select the dataset to be retrieved\n",
    "print(\"Select the dataset to download:\")\n",
    "print(\"1: Retail Data\")\n",
    "print(\"2: Cleaned Data\")\n",
    "print(\"3: Normalized Data\")\n",
    "choice = input(\"Enter your choice (1/2/3): \")\n",
    "\n",
    "base_api_url = \"\"\n",
    "\n",
    "# append the API URL based on users choice\n",
    "if choice == '1':\n",
    "    api_url = base_api_url + \"retail\"\n",
    "elif choice == '2':\n",
    "    api_url = base_api_url + \"cleaned\"\n",
    "elif choice == '3':\n",
    "    api_url = base_api_url + \"normalized\"\n",
    "else:\n",
    "    print(\"Invalid selection. Defaulting to Retail Data.\")\n",
    "    api_url = base_api_url + \"retail\" #base case\n",
    "\n",
    "# GET request to the API\n",
    "response = requests.get(api_url)\n",
    "\n",
    "# check if the request was successful\n",
    "if response.status_code == 200:\n",
    "    # res contains JSON data\n",
    "    data = response.json()\n",
    "\n",
    "    # convert JSON to DataFrame\n",
    "    data_df = pd.DataFrame(data)\n",
    "    print(\"Data loaded successfully.\")\n",
    "else:\n",
    "    print(\"Failed to download data. Status code:\", response.status_code)\n"
   ]
  }
 ],
 "metadata": {
  "kernelspec": {
   "display_name": "Python 3",
   "language": "python",
   "name": "python3"
  },
  "language_info": {
   "codemirror_mode": {
    "name": "ipython",
    "version": 3
   },
   "file_extension": ".py",
   "mimetype": "text/x-python",
   "name": "python",
   "nbconvert_exporter": "python",
   "pygments_lexer": "ipython3",
   "version": "3.8.8"
  }
 },
 "nbformat": 4,
 "nbformat_minor": 5
}
