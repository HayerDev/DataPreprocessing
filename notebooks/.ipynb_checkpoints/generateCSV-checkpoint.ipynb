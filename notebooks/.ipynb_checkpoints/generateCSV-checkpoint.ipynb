{
 "cells": [
  {
   "cell_type": "code",
   "execution_count": 1,
   "id": "b125fc2f",
   "metadata": {},
   "outputs": [],
   "source": [
    "import pandas as pd\n",
    "import numpy as np\n",
    "\n",
    "np.random.seed(0)\n",
    "\n",
    "# generate the csv based on following features\n",
    "data = pd.DataFrame({\n",
    "    'Product_ID': np.random.randint(1000, 2000, 100),\n",
    "    'Product_Category': np.random.choice(['Electronics', 'Clothing', 'Home & Kitchen', 'Beauty', 'Toys'], 100),\n",
    "    'Unit_Price': np.random.uniform(10, 100, 100).round(2),\n",
    "    'Units_Sold': np.random.randint(1, 50, 100),\n",
    "    'Customer_Age': np.random.randint(18, 70, 100),\n",
    "    'Customer_Satisfaction': np.random.randint(1, 6, 100),  # Scale of 1-5\n",
    "    'Sales_Channel': np.random.choice(['Online', 'In-Store'], 100),\n",
    "    'Discount_Rate': np.random.uniform(0, 0.5, 100).round(2),\n",
    "    'Profit_Margin': np.random.uniform(0.05, 0.25, 100).round(2)\n",
    "})\n",
    "\n",
    "# introduce missing values for fun!\n",
    "for col in ['Unit_Price', 'Units_Sold', 'Customer_Age']:\n",
    "    data.loc[data.sample(frac=0.1).index, col] = np.nan\n",
    "\n",
    "# save the data to csv\n",
    "data.to_csv('../data/retail_data.csv', index=False)\n"
   ]
  }
 ],
 "metadata": {
  "kernelspec": {
   "display_name": "Python 3",
   "language": "python",
   "name": "python3"
  },
  "language_info": {
   "codemirror_mode": {
    "name": "ipython",
    "version": 3
   },
   "file_extension": ".py",
   "mimetype": "text/x-python",
   "name": "python",
   "nbconvert_exporter": "python",
   "pygments_lexer": "ipython3",
   "version": "3.8.8"
  }
 },
 "nbformat": 4,
 "nbformat_minor": 5
}
